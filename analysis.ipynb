{
 "cells": [
  {
   "cell_type": "code",
   "execution_count": 1,
   "id": "e990f75e",
   "metadata": {},
   "outputs": [
    {
     "name": "stdout",
     "output_type": "stream",
     "text": [
      "Número de imagens JPG na pasta TRAIN_PATH: 33126\n"
     ]
    },
    {
     "name": "stderr",
     "output_type": "stream",
     "text": [
      "c:\\Users\\hugog\\anaconda3\\lib\\site-packages\\pandas\\core\\indexing.py:1599: SettingWithCopyWarning: \n",
      "A value is trying to be set on a copy of a slice from a DataFrame.\n",
      "Try using .loc[row_indexer,col_indexer] = value instead\n",
      "\n",
      "See the caveats in the documentation: https://pandas.pydata.org/pandas-docs/stable/user_guide/indexing.html#returning-a-view-versus-a-copy\n",
      "  self.obj[key] = infer_fill_value(value)\n",
      "c:\\Users\\hugog\\anaconda3\\lib\\site-packages\\pandas\\core\\indexing.py:1720: SettingWithCopyWarning: \n",
      "A value is trying to be set on a copy of a slice from a DataFrame.\n",
      "Try using .loc[row_indexer,col_indexer] = value instead\n",
      "\n",
      "See the caveats in the documentation: https://pandas.pydata.org/pandas-docs/stable/user_guide/indexing.html#returning-a-view-versus-a-copy\n",
      "  self._setitem_single_column(loc, value, pi)\n"
     ]
    },
    {
     "name": "stdout",
     "output_type": "stream",
     "text": [
      "Due to IPython and Windows limitation, python multiprocessing isn't available now.\n",
      "So `number_workers` is changed to 0 to avoid getting stuck\n"
     ]
    },
    {
     "name": "stderr",
     "output_type": "stream",
     "text": [
      "c:\\Users\\hugog\\anaconda3\\lib\\site-packages\\torch\\_tensor.py:1023: UserWarning: torch.solve is deprecated in favor of torch.linalg.solveand will be removed in a future PyTorch release.\n",
      "torch.linalg.solve has its arguments reversed and does not return the LU factorization.\n",
      "To get the LU factorization see torch.lu, which can be used with torch.lu_solve or torch.lu_unpack.\n",
      "X = torch.solve(B, A).solution\n",
      "should be replaced with\n",
      "X = torch.linalg.solve(A, B) (Triggered internally at  ..\\aten\\src\\ATen\\native\\BatchLinearAlgebra.cpp:760.)\n",
      "  ret = func(*args, **kwargs)\n"
     ]
    },
    {
     "name": "stdout",
     "output_type": "stream",
     "text": [
      "Due to IPython and Windows limitation, python multiprocessing isn't available now.\n",
      "So `number_workers` is changed to 0 to avoid getting stuck\n",
      "Due to IPython and Windows limitation, python multiprocessing isn't available now.\n",
      "So `number_workers` is changed to 0 to avoid getting stuck\n",
      "Due to IPython and Windows limitation, python multiprocessing isn't available now.\n",
      "So `number_workers` is changed to 0 to avoid getting stuck\n",
      "Due to IPython and Windows limitation, python multiprocessing isn't available now.\n",
      "So `number_workers` is changed to 0 to avoid getting stuck\n"
     ]
    }
   ],
   "source": [
    "from prepareData import *\n",
    "from createModel import *\n",
    "\n",
    "TRAIN_PATH = r'E:\\Datasets\\ISIC_2020\\train'\n",
    "print(f\"Número de imagens JPG na pasta TRAIN_PATH: {len([file for file in os.listdir(TRAIN_PATH) if file.endswith('.jpg')])}\")\n",
    "\n",
    "df = pd.read_csv('train.csv')\n",
    "df_dup = pd.read_csv('train_dup.csv')\n",
    "\n",
    "df = removeDuplicates(df,df_dup)\n",
    "dfs = splitDataset(df)\n",
    "\n",
    "dls, learners = modelGen(dfs, TRAIN_PATH)\n"
   ]
  },
  {
   "cell_type": "code",
   "execution_count": 2,
   "id": "4b55926c",
   "metadata": {},
   "outputs": [],
   "source": [
    "for i,learner in enumerate(learners):\n",
    "    learner.model_dir = 'models_5folders_res18'\n",
    "    learner.load(f'model_fold_{i}')\n"
   ]
  },
  {
   "cell_type": "code",
   "execution_count": 3,
   "id": "d3b016dc",
   "metadata": {},
   "outputs": [
    {
     "data": {
      "text/html": [],
      "text/plain": [
       "<IPython.core.display.HTML object>"
      ]
     },
     "metadata": {},
     "output_type": "display_data"
    },
    {
     "data": {
      "text/html": [],
      "text/plain": [
       "<IPython.core.display.HTML object>"
      ]
     },
     "metadata": {},
     "output_type": "display_data"
    },
    {
     "data": {
      "text/html": [],
      "text/plain": [
       "<IPython.core.display.HTML object>"
      ]
     },
     "metadata": {},
     "output_type": "display_data"
    },
    {
     "data": {
      "text/html": [],
      "text/plain": [
       "<IPython.core.display.HTML object>"
      ]
     },
     "metadata": {},
     "output_type": "display_data"
    },
    {
     "data": {
      "text/html": [],
      "text/plain": [
       "<IPython.core.display.HTML object>"
      ]
     },
     "metadata": {},
     "output_type": "display_data"
    }
   ],
   "source": [
    "interprets = [ClassificationInterpretation.from_learner(learner) for learner in learners]"
   ]
  },
  {
   "cell_type": "markdown",
   "id": "b6df39f9",
   "metadata": {},
   "source": [
    "## ****As metricas seguintes ainda precisam ser revisadas"
   ]
  },
  {
   "cell_type": "code",
   "execution_count": 5,
   "id": "0f0b737f",
   "metadata": {},
   "outputs": [],
   "source": [
    "from myMetrics import *\n",
    "\n",
    "metrics = fromInterprets(interprets)"
   ]
  },
  {
   "cell_type": "code",
   "execution_count": 6,
   "id": "41c5e0da",
   "metadata": {},
   "outputs": [
    {
     "name": "stdout",
     "output_type": "stream",
     "text": [
      "Mean metrics for all models\n",
      "F1 score: 0.8573278590453717\n",
      "Balanced Accuracy: 0.8455672241156111\n",
      "Accuracy: 0.858252427184466\n",
      "ROC_AUC Score: 0.8455672241156111\n",
      "Precision: 0.8578272793662199\n",
      "Average Precision: 0.7458344782332873\n"
     ]
    }
   ],
   "source": [
    "printMeanMetrics(metrics)"
   ]
  },
  {
   "cell_type": "code",
   "execution_count": 7,
   "id": "3df3a775",
   "metadata": {},
   "outputs": [
    {
     "name": "stdout",
     "output_type": "stream",
     "text": [
      "Model= {0}\n",
      "F1 score= 0.8593540560224182\n",
      "Balanced Accuracy= 0.8465562336530079\n",
      "Accuracy= 0.86084142394822\n",
      "ROC_AUC Score= 0.8465562336530078\n",
      "Precision= 0.861105589260929\n",
      "Average Precision= 0.7601876853364483\n"
     ]
    }
   ],
   "source": [
    "n = 0\n",
    "printMetrics(metrics[n])"
   ]
  },
  {
   "cell_type": "code",
   "execution_count": 8,
   "id": "ac4cf275",
   "metadata": {},
   "outputs": [
    {
     "name": "stdout",
     "output_type": "stream",
     "text": [
      "Model= {1}\n",
      "F1 score= 0.8668334065816985\n",
      "Balanced Accuracy= 0.8586094158674804\n",
      "Accuracy= 0.8673139158576052\n",
      "ROC_AUC Score= 0.8586094158674803\n",
      "Precision= 0.8668251153297292\n",
      "Average Precision= 0.7657456656323663\n"
     ]
    }
   ],
   "source": [
    "n = 1\n",
    "printMetrics(metrics[n])"
   ]
  },
  {
   "cell_type": "code",
   "execution_count": 9,
   "id": "58bc8ca5",
   "metadata": {},
   "outputs": [
    {
     "name": "stdout",
     "output_type": "stream",
     "text": [
      "Model= {2}\n",
      "F1 score= 0.8574091190332511\n",
      "Balanced Accuracy= 0.8505013077593724\n",
      "Accuracy= 0.8576051779935275\n",
      "ROC_AUC Score= 0.8505013077593724\n",
      "Precision= 0.8572871424263134\n",
      "Average Precision= 0.7487461900092245\n"
     ]
    }
   ],
   "source": [
    "n = 2\n",
    "printMetrics(metrics[n])"
   ]
  },
  {
   "cell_type": "code",
   "execution_count": 10,
   "id": "607758ed",
   "metadata": {},
   "outputs": [
    {
     "name": "stdout",
     "output_type": "stream",
     "text": [
      "Model= {3}\n",
      "F1 score= 0.8408496810366641\n",
      "Balanced Accuracy= 0.831669572798605\n",
      "Accuracy= 0.8414239482200647\n",
      "ROC_AUC Score= 0.831669572798605\n",
      "Precision= 0.8407318982779622\n",
      "Average Precision= 0.7250175673150563\n"
     ]
    }
   ],
   "source": [
    "n = 3\n",
    "printMetrics(metrics[n])"
   ]
  },
  {
   "cell_type": "code",
   "execution_count": 11,
   "id": "2b7830dc",
   "metadata": {},
   "outputs": [
    {
     "name": "stdout",
     "output_type": "stream",
     "text": [
      "Model= {4}\n",
      "F1 score= 0.8621930325528269\n",
      "Balanced Accuracy= 0.8404995904995904\n",
      "Accuracy= 0.8640776699029126\n",
      "ROC_AUC Score= 0.8404995904995904\n",
      "Precision= 0.8631866515361661\n",
      "Average Precision= 0.7294752828733412\n"
     ]
    }
   ],
   "source": [
    "n = 4\n",
    "printMetrics(metrics[n])"
   ]
  },
  {
   "cell_type": "markdown",
   "id": "e1d98473",
   "metadata": {},
   "source": [
    "## Matrizes confusão"
   ]
  },
  {
   "cell_type": "code",
   "execution_count": 13,
   "id": "31ef7d68",
   "metadata": {},
   "outputs": [
    {
     "data": {
      "image/png": "[encoded data removed]",
      "text/plain": [
       "<Figure size 288x288 with 1 Axes>"
      ]
     },
     "metadata": {
      "needs_background": "light"
     },
     "output_type": "display_data"
    },
    {
     "data": {
      "image/png": "[encoded data removed]",
      "text/plain": [
       "<Figure size 288x288 with 1 Axes>"
      ]
     },
     "metadata": {
      "needs_background": "light"
     },
     "output_type": "display_data"
    },
    {
     "data": {
      "image/png": "[encoded data removed]",
      "text/plain": [
       "<Figure size 288x288 with 1 Axes>"
      ]
     },
     "metadata": {
      "needs_background": "light"
     },
     "output_type": "display_data"
    },
    {
     "data": {
      "image/png": "[encoded data removed]",
      "text/plain": [
       "<Figure size 288x288 with 1 Axes>"
      ]
     },
     "metadata": {
      "needs_background": "light"
     },
     "output_type": "display_data"
    },
    {
     "data": {
      "image/png": "[encoded data removed]",
      "text/plain": [
       "<Figure size 288x288 with 1 Axes>"
      ]
     },
     "metadata": {
      "needs_background": "light"
     },
     "output_type": "display_data"
    }
   ],
   "source": [
    "for interp in interprets:\n",
    "    interp.plot_confusion_matrix(figsize=(4,4))"
   ]
  },
  {
   "cell_type": "code",
   "execution_count": null,
   "id": "e9a37467",
   "metadata": {},
   "outputs": [],
   "source": []
  }
 ],
 "metadata": {
  "interpreter": {
   "hash": "94bef3baab1322d9735720ad04eeabea07ab806650064786b2f5df6e3c4f6c41"
  },
  "kernelspec": {
   "display_name": "Python 3.8.8 ('base')",
   "language": "python",
   "name": "python3"
  },
  "language_info": {
   "codemirror_mode": {
    "name": "ipython",
    "version": 3
   },
   "file_extension": ".py",
   "mimetype": "text/x-python",
   "name": "python",
   "nbconvert_exporter": "python",
   "pygments_lexer": "ipython3",
   "version": "3.8.8"
  }
 },
 "nbformat": 4,
 "nbformat_minor": 5
}
