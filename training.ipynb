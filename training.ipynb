{
 "cells": [
  {
   "cell_type": "code",
   "execution_count": null,
   "metadata": {},
   "outputs": [],
   "source": [
    "from tools.prepareData import *\n",
    "from tools.createModel import *\n",
    "\n",
    "TRAIN_PATH = r'E:\\Datasets\\ISIC_2020\\train'\n",
    "print(f\"Número de imagens JPG na pasta TRAIN_PATH: {len([file for file in os.listdir(TRAIN_PATH) if file.endswith('.jpg')])}\")\n",
    "\n",
    "\n",
    "df = pd.read_csv('train.csv')\n",
    "df_dup = pd.read_csv('train_dup.csv')\n",
    "\n",
    "df = removeDuplicates(df,df_dup)\n",
    "dfs = splitDataset(df)\n",
    "\n",
    "dls, learners = modelGen(dfs, TRAIN_PATH)\n",
    "\n",
    "n = 0\n",
    "learn = learners[n]"
   ]
  },
  {
   "cell_type": "code",
   "execution_count": null,
   "metadata": {},
   "outputs": [],
   "source": [
    "learn.model_dir = 'models_5folders_res18'\n",
    "\n",
    "#learn.load(f'model_fold_{n}')\n",
    "#learn.unfreeze()\n",
    "learn.fine_tune(20)\n",
    "#learn.save(f'model_fold_{n}')"
   ]
  },
  {
   "cell_type": "code",
   "execution_count": null,
   "metadata": {},
   "outputs": [],
   "source": []
  }
 ],
 "metadata": {
  "interpreter": {
   "hash": "94bef3baab1322d9735720ad04eeabea07ab806650064786b2f5df6e3c4f6c41"
  },
  "kernelspec": {
   "display_name": "Python 3.8.8 ('base')",
   "language": "python",
   "name": "python3"
  },
  "language_info": {
   "codemirror_mode": {
    "name": "ipython",
    "version": 3
   },
   "file_extension": ".py",
   "mimetype": "text/x-python",
   "name": "python",
   "nbconvert_exporter": "python",
   "pygments_lexer": "ipython3",
   "version": "3.8.8"
  },
  "orig_nbformat": 4
 },
 "nbformat": 4,
 "nbformat_minor": 2
}
